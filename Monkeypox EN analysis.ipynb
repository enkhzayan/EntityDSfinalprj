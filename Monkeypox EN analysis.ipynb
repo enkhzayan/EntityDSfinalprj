{
 "cells": [
  {
   "cell_type": "code",
   "execution_count": 49,
   "id": "84eb4567",
   "metadata": {},
   "outputs": [],
   "source": [
    "import pandas as pd\n",
    "import numpy as np\n",
    "import seaborn as sns\n",
    "import scipy\n",
    "from scipy import stats\n",
    "import matplotlib.mlab as mlab\n",
    "import matplotlib.pyplot as plt \n",
    "from statsmodels.stats.multicomp import pairwise_tukeyhsd\n",
    "from statsmodels.stats.multicomp import MultiComparison "
   ]
  },
  {
   "cell_type": "code",
   "execution_count": 3,
   "id": "1d4a48ec",
   "metadata": {},
   "outputs": [],
   "source": [
    "monkeypox = pd.read_excel(\"monkeypox.xlsx\")"
   ]
  },
  {
   "cell_type": "code",
   "execution_count": 4,
   "id": "ea83abc7",
   "metadata": {},
   "outputs": [
    {
     "data": {
      "text/html": [
       "<div>\n",
       "<style scoped>\n",
       "    .dataframe tbody tr th:only-of-type {\n",
       "        vertical-align: middle;\n",
       "    }\n",
       "\n",
       "    .dataframe tbody tr th {\n",
       "        vertical-align: top;\n",
       "    }\n",
       "\n",
       "    .dataframe thead th {\n",
       "        text-align: right;\n",
       "    }\n",
       "</style>\n",
       "<table border=\"1\" class=\"dataframe\">\n",
       "  <thead>\n",
       "    <tr style=\"text-align: right;\">\n",
       "      <th></th>\n",
       "      <th>number</th>\n",
       "      <th>created_at</th>\n",
       "      <th>text</th>\n",
       "      <th>source</th>\n",
       "      <th>user is verified</th>\n",
       "      <th>user has url</th>\n",
       "      <th>user description</th>\n",
       "      <th>user created at</th>\n",
       "      <th>retweet_count</th>\n",
       "      <th>reply_count</th>\n",
       "      <th>like_count</th>\n",
       "      <th>quote_count</th>\n",
       "      <th>followers count</th>\n",
       "      <th>following count</th>\n",
       "      <th>tweet count</th>\n",
       "      <th>listed_count</th>\n",
       "      <th>user location</th>\n",
       "      <th>binary_class</th>\n",
       "      <th>ternary_class</th>\n",
       "    </tr>\n",
       "  </thead>\n",
       "  <tbody>\n",
       "    <tr>\n",
       "      <th>0</th>\n",
       "      <td>18</td>\n",
       "      <td>2022-07-08 10:12:00</td>\n",
       "      <td>Much of the focus on #monkeypox recently has b...</td>\n",
       "      <td>Twitter Web App</td>\n",
       "      <td>False</td>\n",
       "      <td>False</td>\n",
       "      <td>Mother of 4, ex wife of 3. Battling health ine...</td>\n",
       "      <td>2011-08-14 19:22:00</td>\n",
       "      <td>2</td>\n",
       "      <td>0</td>\n",
       "      <td>2</td>\n",
       "      <td>0</td>\n",
       "      <td>3696</td>\n",
       "      <td>2993</td>\n",
       "      <td>3459</td>\n",
       "      <td>25</td>\n",
       "      <td>London, England</td>\n",
       "      <td>0</td>\n",
       "      <td>0</td>\n",
       "    </tr>\n",
       "    <tr>\n",
       "      <th>1</th>\n",
       "      <td>31</td>\n",
       "      <td>2022-07-09 00:00:00</td>\n",
       "      <td>ICYMI: The first probable case of monkeypox in...</td>\n",
       "      <td>TweetDeck</td>\n",
       "      <td>True</td>\n",
       "      <td>True</td>\n",
       "      <td>WCHS-TV serves the Charleston-Huntington marke...</td>\n",
       "      <td>2009-04-17 15:21:00</td>\n",
       "      <td>2</td>\n",
       "      <td>0</td>\n",
       "      <td>1</td>\n",
       "      <td>0</td>\n",
       "      <td>75836</td>\n",
       "      <td>1753</td>\n",
       "      <td>125528</td>\n",
       "      <td>531</td>\n",
       "      <td>Charleston, WV</td>\n",
       "      <td>0</td>\n",
       "      <td>0</td>\n",
       "    </tr>\n",
       "    <tr>\n",
       "      <th>2</th>\n",
       "      <td>32</td>\n",
       "      <td>2022-07-09 00:00:00</td>\n",
       "      <td>WHO: #Monkeypox outbreak not yet a global publ...</td>\n",
       "      <td>eClincher</td>\n",
       "      <td>False</td>\n",
       "      <td>False</td>\n",
       "      <td>Patient Engagement | Revenue Cycle Management ...</td>\n",
       "      <td>2019-03-05 19:24:00</td>\n",
       "      <td>0</td>\n",
       "      <td>0</td>\n",
       "      <td>0</td>\n",
       "      <td>0</td>\n",
       "      <td>2852</td>\n",
       "      <td>2381</td>\n",
       "      <td>10615</td>\n",
       "      <td>14</td>\n",
       "      <td>Utah, USA</td>\n",
       "      <td>0</td>\n",
       "      <td>0</td>\n",
       "    </tr>\n",
       "    <tr>\n",
       "      <th>3</th>\n",
       "      <td>33</td>\n",
       "      <td>2022-07-09 00:00:00</td>\n",
       "      <td>According to the CDC, monkeypox is usually spr...</td>\n",
       "      <td>Sprout Social</td>\n",
       "      <td>True</td>\n",
       "      <td>True</td>\n",
       "      <td>Home of the Minnesota @Twins and @Timberwolves...</td>\n",
       "      <td>2009-02-18 14:57:00</td>\n",
       "      <td>1</td>\n",
       "      <td>0</td>\n",
       "      <td>1</td>\n",
       "      <td>0</td>\n",
       "      <td>22897</td>\n",
       "      <td>5665</td>\n",
       "      <td>119258</td>\n",
       "      <td>663</td>\n",
       "      <td>Downtown Minneapolis</td>\n",
       "      <td>0</td>\n",
       "      <td>0</td>\n",
       "    </tr>\n",
       "    <tr>\n",
       "      <th>4</th>\n",
       "      <td>34</td>\n",
       "      <td>2022-07-09 00:00:00</td>\n",
       "      <td>LGBTQ advocates and health care organizations ...</td>\n",
       "      <td>SocialNewsDesk</td>\n",
       "      <td>True</td>\n",
       "      <td>True</td>\n",
       "      <td>Spectrum News 1 offers the best 24-hour local ...</td>\n",
       "      <td>2008-10-27 02:14:00</td>\n",
       "      <td>0</td>\n",
       "      <td>0</td>\n",
       "      <td>0</td>\n",
       "      <td>0</td>\n",
       "      <td>81296</td>\n",
       "      <td>466</td>\n",
       "      <td>148219</td>\n",
       "      <td>747</td>\n",
       "      <td>Rochester, NY</td>\n",
       "      <td>0</td>\n",
       "      <td>0</td>\n",
       "    </tr>\n",
       "  </tbody>\n",
       "</table>\n",
       "</div>"
      ],
      "text/plain": [
       "   number          created_at  \\\n",
       "0      18 2022-07-08 10:12:00   \n",
       "1      31 2022-07-09 00:00:00   \n",
       "2      32 2022-07-09 00:00:00   \n",
       "3      33 2022-07-09 00:00:00   \n",
       "4      34 2022-07-09 00:00:00   \n",
       "\n",
       "                                                text           source  \\\n",
       "0  Much of the focus on #monkeypox recently has b...  Twitter Web App   \n",
       "1  ICYMI: The first probable case of monkeypox in...        TweetDeck   \n",
       "2  WHO: #Monkeypox outbreak not yet a global publ...        eClincher   \n",
       "3  According to the CDC, monkeypox is usually spr...    Sprout Social   \n",
       "4  LGBTQ advocates and health care organizations ...   SocialNewsDesk   \n",
       "\n",
       "   user is verified  user has url  \\\n",
       "0             False         False   \n",
       "1              True          True   \n",
       "2             False         False   \n",
       "3              True          True   \n",
       "4              True          True   \n",
       "\n",
       "                                    user description     user created at  \\\n",
       "0  Mother of 4, ex wife of 3. Battling health ine... 2011-08-14 19:22:00   \n",
       "1  WCHS-TV serves the Charleston-Huntington marke... 2009-04-17 15:21:00   \n",
       "2  Patient Engagement | Revenue Cycle Management ... 2019-03-05 19:24:00   \n",
       "3  Home of the Minnesota @Twins and @Timberwolves... 2009-02-18 14:57:00   \n",
       "4  Spectrum News 1 offers the best 24-hour local ... 2008-10-27 02:14:00   \n",
       "\n",
       "   retweet_count  reply_count  like_count  quote_count  followers count  \\\n",
       "0              2            0           2            0             3696   \n",
       "1              2            0           1            0            75836   \n",
       "2              0            0           0            0             2852   \n",
       "3              1            0           1            0            22897   \n",
       "4              0            0           0            0            81296   \n",
       "\n",
       "   following count  tweet count  listed_count         user location  \\\n",
       "0             2993         3459            25       London, England   \n",
       "1             1753       125528           531        Charleston, WV   \n",
       "2             2381        10615            14             Utah, USA   \n",
       "3             5665       119258           663  Downtown Minneapolis   \n",
       "4              466       148219           747         Rochester, NY   \n",
       "\n",
       "   binary_class  ternary_class  \n",
       "0             0              0  \n",
       "1             0              0  \n",
       "2             0              0  \n",
       "3             0              0  \n",
       "4             0              0  "
      ]
     },
     "execution_count": 4,
     "metadata": {},
     "output_type": "execute_result"
    }
   ],
   "source": [
    "monkeypox.head()"
   ]
  },
  {
   "cell_type": "code",
   "execution_count": 53,
   "id": "a8fdc420",
   "metadata": {},
   "outputs": [
    {
     "data": {
      "text/html": [
       "<div>\n",
       "<style scoped>\n",
       "    .dataframe tbody tr th:only-of-type {\n",
       "        vertical-align: middle;\n",
       "    }\n",
       "\n",
       "    .dataframe tbody tr th {\n",
       "        vertical-align: top;\n",
       "    }\n",
       "\n",
       "    .dataframe thead th {\n",
       "        text-align: right;\n",
       "    }\n",
       "</style>\n",
       "<table border=\"1\" class=\"dataframe\">\n",
       "  <thead>\n",
       "    <tr style=\"text-align: right;\">\n",
       "      <th></th>\n",
       "      <th>followers count</th>\n",
       "      <th>retweet_count</th>\n",
       "      <th>user created at</th>\n",
       "    </tr>\n",
       "  </thead>\n",
       "  <tbody>\n",
       "    <tr>\n",
       "      <th>0</th>\n",
       "      <td>3696</td>\n",
       "      <td>2</td>\n",
       "      <td>2011-08-14 19:22:00</td>\n",
       "    </tr>\n",
       "    <tr>\n",
       "      <th>1</th>\n",
       "      <td>75836</td>\n",
       "      <td>2</td>\n",
       "      <td>2009-04-17 15:21:00</td>\n",
       "    </tr>\n",
       "    <tr>\n",
       "      <th>2</th>\n",
       "      <td>2852</td>\n",
       "      <td>0</td>\n",
       "      <td>2019-03-05 19:24:00</td>\n",
       "    </tr>\n",
       "    <tr>\n",
       "      <th>3</th>\n",
       "      <td>22897</td>\n",
       "      <td>1</td>\n",
       "      <td>2009-02-18 14:57:00</td>\n",
       "    </tr>\n",
       "    <tr>\n",
       "      <th>4</th>\n",
       "      <td>81296</td>\n",
       "      <td>0</td>\n",
       "      <td>2008-10-27 02:14:00</td>\n",
       "    </tr>\n",
       "  </tbody>\n",
       "</table>\n",
       "</div>"
      ],
      "text/plain": [
       "   followers count  retweet_count     user created at\n",
       "0             3696              2 2011-08-14 19:22:00\n",
       "1            75836              2 2009-04-17 15:21:00\n",
       "2             2852              0 2019-03-05 19:24:00\n",
       "3            22897              1 2009-02-18 14:57:00\n",
       "4            81296              0 2008-10-27 02:14:00"
      ]
     },
     "execution_count": 53,
     "metadata": {},
     "output_type": "execute_result"
    }
   ],
   "source": [
    "monkeypoxFTcount.head()"
   ]
  },
  {
   "cell_type": "code",
   "execution_count": 54,
   "id": "2e0c10e2",
   "metadata": {},
   "outputs": [
    {
     "data": {
      "text/plain": [
       "4        72\n",
       "6        57\n",
       "0        56\n",
       "5        49\n",
       "9        46\n",
       "         ..\n",
       "44371     1\n",
       "52363     1\n",
       "79553     1\n",
       "605       1\n",
       "3944      1\n",
       "Name: followers count, Length: 2433, dtype: int64"
      ]
     },
     "execution_count": 54,
     "metadata": {},
     "output_type": "execute_result"
    }
   ],
   "source": [
    "monkeypoxFTcount['followers count'].value_counts()"
   ]
  },
  {
   "cell_type": "code",
   "execution_count": 55,
   "id": "5746649e",
   "metadata": {},
   "outputs": [
    {
     "data": {
      "text/plain": [
       "count    5.787000e+03\n",
       "mean     3.678703e+04\n",
       "std      5.183490e+05\n",
       "min      0.000000e+00\n",
       "25%      9.300000e+01\n",
       "50%      5.390000e+02\n",
       "75%      2.733500e+03\n",
       "max      2.212650e+07\n",
       "Name: followers count, dtype: float64"
      ]
     },
     "execution_count": 55,
     "metadata": {},
     "output_type": "execute_result"
    }
   ],
   "source": [
    "monkeypoxFTcount['followers count'].describe()"
   ]
  },
  {
   "cell_type": "code",
   "execution_count": 56,
   "id": "ead2255b",
   "metadata": {},
   "outputs": [
    {
     "data": {
      "text/plain": [
       "0      4575\n",
       "1       550\n",
       "2       176\n",
       "3       104\n",
       "4        73\n",
       "       ... \n",
       "113       1\n",
       "343       1\n",
       "185       1\n",
       "66        1\n",
       "166       1\n",
       "Name: retweet_count, Length: 79, dtype: int64"
      ]
     },
     "execution_count": 56,
     "metadata": {},
     "output_type": "execute_result"
    }
   ],
   "source": [
    "monkeypoxFTcount['retweet_count'].value_counts()"
   ]
  },
  {
   "cell_type": "code",
   "execution_count": 57,
   "id": "40dcf984",
   "metadata": {},
   "outputs": [
    {
     "name": "stdout",
     "output_type": "stream",
     "text": [
      "<class 'pandas.core.frame.DataFrame'>\n",
      "RangeIndex: 5787 entries, 0 to 5786\n",
      "Data columns (total 3 columns):\n",
      " #   Column           Non-Null Count  Dtype         \n",
      "---  ------           --------------  -----         \n",
      " 0   followers count  5787 non-null   int64         \n",
      " 1   retweet_count    5787 non-null   int64         \n",
      " 2   user created at  5787 non-null   datetime64[ns]\n",
      "dtypes: datetime64[ns](1), int64(2)\n",
      "memory usage: 135.8 KB\n"
     ]
    }
   ],
   "source": [
    "monkeypoxFTcount.info()"
   ]
  },
  {
   "cell_type": "code",
   "execution_count": 58,
   "id": "7aa079a6",
   "metadata": {},
   "outputs": [
    {
     "data": {
      "text/plain": [
       "count    5787.000000\n",
       "mean        2.742872\n",
       "std        39.652237\n",
       "min         0.000000\n",
       "25%         0.000000\n",
       "50%         0.000000\n",
       "75%         0.000000\n",
       "max      2281.000000\n",
       "Name: retweet_count, dtype: float64"
      ]
     },
     "execution_count": 58,
     "metadata": {},
     "output_type": "execute_result"
    }
   ],
   "source": [
    "monkeypoxFTcount['retweet_count'].describe()"
   ]
  },
  {
   "cell_type": "code",
   "execution_count": 60,
   "id": "cda6dba9",
   "metadata": {},
   "outputs": [
    {
     "name": "stderr",
     "output_type": "stream",
     "text": [
      "C:\\Users\\Owner\\AppData\\Local\\Temp\\ipykernel_7896\\1394375522.py:1: FutureWarning: Treating datetime data as categorical rather than numeric in `.describe` is deprecated and will be removed in a future version of pandas. Specify `datetime_is_numeric=True` to silence this warning and adopt the future behavior now.\n",
      "  monkeypoxFTcount['user created at'].describe()\n"
     ]
    },
    {
     "data": {
      "text/plain": [
       "count                    5787\n",
       "unique                   4584\n",
       "top       2013-08-13 06:16:00\n",
       "freq                       44\n",
       "first     2006-12-21 14:40:00\n",
       "last      2022-07-09 18:46:00\n",
       "Name: user created at, dtype: object"
      ]
     },
     "execution_count": 60,
     "metadata": {},
     "output_type": "execute_result"
    }
   ],
   "source": [
    "monkeypoxFTcount['user created at'].describe()"
   ]
  },
  {
   "cell_type": "code",
   "execution_count": 62,
   "id": "b77e55f1",
   "metadata": {},
   "outputs": [
    {
     "name": "stderr",
     "output_type": "stream",
     "text": [
      "C:\\Users\\Owner\\AppData\\Local\\Temp\\ipykernel_7896\\682648425.py:1: FutureWarning: DataFrame.mean and DataFrame.median with numeric_only=None will include datetime64 and datetime64tz columns in a future version.\n",
      "  monkeypoxFTcount.mean()\n"
     ]
    },
    {
     "data": {
      "text/plain": [
       "followers count    36787.029722\n",
       "retweet_count          2.742872\n",
       "dtype: float64"
      ]
     },
     "execution_count": 62,
     "metadata": {},
     "output_type": "execute_result"
    }
   ],
   "source": [
    "monkeypoxFTcount.mean()"
   ]
  },
  {
   "cell_type": "code",
   "execution_count": 63,
   "id": "a1d67a37",
   "metadata": {},
   "outputs": [
    {
     "data": {
      "text/plain": [
       "1572.2999297387003"
      ]
     },
     "execution_count": 63,
     "metadata": {},
     "output_type": "execute_result"
    }
   ],
   "source": [
    "monkeypoxFTcount['retweet_count'].var()"
   ]
  },
  {
   "cell_type": "code",
   "execution_count": 64,
   "id": "d08f6b03",
   "metadata": {},
   "outputs": [
    {
     "data": {
      "text/plain": [
       "268685718056.67282"
      ]
     },
     "execution_count": 64,
     "metadata": {},
     "output_type": "execute_result"
    }
   ],
   "source": [
    "monkeypoxFTcount['followers count'].var()"
   ]
  },
  {
   "cell_type": "code",
   "execution_count": 65,
   "id": "8fbaf82e",
   "metadata": {},
   "outputs": [
    {
     "data": {
      "text/plain": [
       "39.652237386290075"
      ]
     },
     "execution_count": 65,
     "metadata": {},
     "output_type": "execute_result"
    }
   ],
   "source": [
    "monkeypoxFTcount['retweet_count'].std()"
   ]
  },
  {
   "cell_type": "code",
   "execution_count": 66,
   "id": "ea0f4296",
   "metadata": {},
   "outputs": [
    {
     "data": {
      "text/plain": [
       "518349.0311138556"
      ]
     },
     "execution_count": 66,
     "metadata": {},
     "output_type": "execute_result"
    }
   ],
   "source": [
    "monkeypoxFTcount['followers count'].std()"
   ]
  },
  {
   "cell_type": "code",
   "execution_count": 67,
   "id": "30bbe367",
   "metadata": {},
   "outputs": [
    {
     "data": {
      "text/plain": [
       "(5787, 3)"
      ]
     },
     "execution_count": 67,
     "metadata": {},
     "output_type": "execute_result"
    }
   ],
   "source": [
    "monkeypoxFTcount.shape"
   ]
  },
  {
   "cell_type": "code",
   "execution_count": 68,
   "id": "3fad5df2",
   "metadata": {},
   "outputs": [
    {
     "data": {
      "text/html": [
       "<div>\n",
       "<style scoped>\n",
       "    .dataframe tbody tr th:only-of-type {\n",
       "        vertical-align: middle;\n",
       "    }\n",
       "\n",
       "    .dataframe tbody tr th {\n",
       "        vertical-align: top;\n",
       "    }\n",
       "\n",
       "    .dataframe thead th {\n",
       "        text-align: right;\n",
       "    }\n",
       "</style>\n",
       "<table border=\"1\" class=\"dataframe\">\n",
       "  <thead>\n",
       "    <tr style=\"text-align: right;\">\n",
       "      <th></th>\n",
       "      <th>followers count</th>\n",
       "      <th>retweet_count</th>\n",
       "      <th>user created at</th>\n",
       "    </tr>\n",
       "  </thead>\n",
       "  <tbody>\n",
       "    <tr>\n",
       "      <th>0</th>\n",
       "      <td>3696</td>\n",
       "      <td>2</td>\n",
       "      <td>2011-08-14 19:22:00</td>\n",
       "    </tr>\n",
       "    <tr>\n",
       "      <th>1</th>\n",
       "      <td>75836</td>\n",
       "      <td>2</td>\n",
       "      <td>2009-04-17 15:21:00</td>\n",
       "    </tr>\n",
       "    <tr>\n",
       "      <th>2</th>\n",
       "      <td>2852</td>\n",
       "      <td>0</td>\n",
       "      <td>2019-03-05 19:24:00</td>\n",
       "    </tr>\n",
       "    <tr>\n",
       "      <th>3</th>\n",
       "      <td>22897</td>\n",
       "      <td>1</td>\n",
       "      <td>2009-02-18 14:57:00</td>\n",
       "    </tr>\n",
       "    <tr>\n",
       "      <th>4</th>\n",
       "      <td>81296</td>\n",
       "      <td>0</td>\n",
       "      <td>2008-10-27 02:14:00</td>\n",
       "    </tr>\n",
       "  </tbody>\n",
       "</table>\n",
       "</div>"
      ],
      "text/plain": [
       "   followers count  retweet_count     user created at\n",
       "0             3696              2 2011-08-14 19:22:00\n",
       "1            75836              2 2009-04-17 15:21:00\n",
       "2             2852              0 2019-03-05 19:24:00\n",
       "3            22897              1 2009-02-18 14:57:00\n",
       "4            81296              0 2008-10-27 02:14:00"
      ]
     },
     "execution_count": 68,
     "metadata": {},
     "output_type": "execute_result"
    }
   ],
   "source": [
    "monkeypoxFTcount.head()"
   ]
  },
  {
   "cell_type": "code",
   "execution_count": 69,
   "id": "06793b0f",
   "metadata": {
    "scrolled": true
   },
   "outputs": [
    {
     "data": {
      "text/plain": [
       "<AxesSubplot:>"
      ]
     },
     "execution_count": 69,
     "metadata": {},
     "output_type": "execute_result"
    },
    {
     "data": {
      "image/png": "[encoded data removed]",
      "text/plain": [
       "<Figure size 1008x432 with 1 Axes>"
      ]
     },
     "metadata": {
      "needs_background": "light"
     },
     "output_type": "display_data"
    }
   ],
   "source": [
    "monkeypoxFTcount['retweet_count'].plot(kind='box', figsize=(14,6))"
   ]
  },
  {
   "cell_type": "code",
   "execution_count": 73,
   "id": "9e754bac",
   "metadata": {},
   "outputs": [
    {
     "data": {
      "text/plain": [
       "<AxesSubplot:ylabel='Density'>"
      ]
     },
     "execution_count": 73,
     "metadata": {},
     "output_type": "execute_result"
    },
    {
     "data": {
      "image/png": "[encoded data removed]",
      "text/plain": [
       "<Figure size 1008x432 with 1 Axes>"
      ]
     },
     "metadata": {
      "needs_background": "light"
     },
     "output_type": "display_data"
    }
   ],
   "source": [
    "monkeypoxFTcount['retweet_count'].plot(kind='density', figsize=(14,6))"
   ]
  },
  {
   "cell_type": "code",
   "execution_count": 74,
   "id": "8f8ba549",
   "metadata": {},
   "outputs": [
    {
     "data": {
      "text/plain": [
       "<AxesSubplot:>"
      ]
     },
     "execution_count": 74,
     "metadata": {},
     "output_type": "execute_result"
    },
    {
     "data": {
      "image/png": "[encoded data removed]",
      "text/plain": [
       "<Figure size 1008x432 with 1 Axes>"
      ]
     },
     "metadata": {
      "needs_background": "light"
     },
     "output_type": "display_data"
    }
   ],
   "source": [
    "monkeypoxFTcount['followers count'].plot(kind='box', figsize=(14,6))"
   ]
  },
  {
   "cell_type": "code",
   "execution_count": 22,
   "id": "02203ac1",
   "metadata": {},
   "outputs": [
    {
     "data": {
      "text/plain": [
       "<AxesSubplot:ylabel='Density'>"
      ]
     },
     "execution_count": 22,
     "metadata": {},
     "output_type": "execute_result"
    },
    {
     "data": {
      "image/png": "[encoded data removed]",
      "text/plain": [
       "<Figure size 1008x432 with 1 Axes>"
      ]
     },
     "metadata": {
      "needs_background": "light"
     },
     "output_type": "display_data"
    }
   ],
   "source": [
    "monkeypoxFTcount['followers count'].plot(kind='density', figsize=(14,6))"
   ]
  },
  {
   "cell_type": "code",
   "execution_count": 23,
   "id": "b42cd862",
   "metadata": {},
   "outputs": [
    {
     "data": {
      "image/png": "[encoded data removed]",
      "text/plain": [
       "<Figure size 1008x432 with 1 Axes>"
      ]
     },
     "metadata": {
      "needs_background": "light"
     },
     "output_type": "display_data"
    }
   ],
   "source": [
    "ax = monkeypoxFTcount['retweet_count'].plot(kind='hist',figsize=(14,6))"
   ]
  },
  {
   "cell_type": "code",
   "execution_count": 24,
   "id": "37817784",
   "metadata": {},
   "outputs": [
    {
     "data": {
      "image/png": "[encoded data removed]",
      "text/plain": [
       "<Figure size 1008x432 with 1 Axes>"
      ]
     },
     "metadata": {
      "needs_background": "light"
     },
     "output_type": "display_data"
    }
   ],
   "source": [
    "ax = monkeypoxFTcount['followers count'].plot(kind='hist',figsize=(14,6))"
   ]
  },
  {
   "cell_type": "code",
   "execution_count": 46,
   "id": "839849ec",
   "metadata": {},
   "outputs": [
    {
     "ename": "AttributeError",
     "evalue": "'numpy.ndarray' object has no attribute 'corr'",
     "output_type": "error",
     "traceback": [
      "\u001b[1;31m---------------------------------------------------------------------------\u001b[0m",
      "\u001b[1;31mAttributeError\u001b[0m                            Traceback (most recent call last)",
      "Input \u001b[1;32mIn [46]\u001b[0m, in \u001b[0;36m<module>\u001b[1;34m\u001b[0m\n\u001b[1;32m----> 1\u001b[0m corr \u001b[38;5;241m=\u001b[39m \u001b[43mmonkeypoxFTcount\u001b[49m\u001b[38;5;241;43m.\u001b[39;49m\u001b[43mcorr\u001b[49m()\n\u001b[0;32m      2\u001b[0m corr\n",
      "\u001b[1;31mAttributeError\u001b[0m: 'numpy.ndarray' object has no attribute 'corr'"
     ]
    }
   ],
   "source": [
    "corr = monkeypoxFTcount.corr()\n",
    "corr"
   ]
  },
  {
   "cell_type": "code",
   "execution_count": 51,
   "id": "c20953c6",
   "metadata": {},
   "outputs": [
    {
     "data": {
      "text/plain": [
       "<AxesSubplot:xlabel='followers count', ylabel='retweet_count'>"
      ]
     },
     "execution_count": 51,
     "metadata": {},
     "output_type": "execute_result"
    },
    {
     "data": {
      "image/png": "[encoded data removed]",
      "text/plain": [
       "<Figure size 432x432 with 1 Axes>"
      ]
     },
     "metadata": {
      "needs_background": "light"
     },
     "output_type": "display_data"
    }
   ],
   "source": [
    "monkeypoxFTcount.plot(kind='scatter', x='followers count', y='retweet_count', figsize=(6,6))"
   ]
  },
  {
   "cell_type": "code",
   "execution_count": 29,
   "id": "5f453703",
   "metadata": {},
   "outputs": [],
   "source": [
    "monkeypoxFTcount = np.random.randint(0, 10, 50) ###creation of an array of 50 random integers between 0 and 10"
   ]
  },
  {
   "cell_type": "code",
   "execution_count": 30,
   "id": "aee98315",
   "metadata": {},
   "outputs": [],
   "source": [
    "monkeypoxFTcount = monkeypoxFTcount + np.random.normal(0, 10, 50)"
   ]
  },
  {
   "cell_type": "markdown",
   "id": "912c4fb9",
   "metadata": {},
   "source": [
    "### something missing in the code here. \n",
    "\n",
    "np.corrcoef(MPfollow_up, MPfollow_up1) "
   ]
  },
  {
   "cell_type": "code",
   "execution_count": 36,
   "id": "94c893b8",
   "metadata": {},
   "outputs": [
    {
     "data": {
      "text/plain": [
       "<AxesSubplot:>"
      ]
     },
     "execution_count": 36,
     "metadata": {},
     "output_type": "execute_result"
    },
    {
     "data": {
      "image/png": "[encoded data removed]",
      "text/plain": [
       "<Figure size 432x288 with 1 Axes>"
      ]
     },
     "metadata": {
      "needs_background": "light"
     },
     "output_type": "display_data"
    }
   ],
   "source": [
    "monkeypox['retweet_count'].hist()"
   ]
  },
  {
   "cell_type": "code",
   "execution_count": 37,
   "id": "9434d303",
   "metadata": {},
   "outputs": [
    {
     "data": {
      "text/plain": [
       "<AxesSubplot:>"
      ]
     },
     "execution_count": 37,
     "metadata": {},
     "output_type": "execute_result"
    },
    {
     "data": {
      "image/png": "[encoded data removed]",
      "text/plain": [
       "<Figure size 432x288 with 1 Axes>"
      ]
     },
     "metadata": {
      "needs_background": "light"
     },
     "output_type": "display_data"
    }
   ],
   "source": [
    "monkeypox['followers count'].hist()"
   ]
  },
  {
   "cell_type": "code",
   "execution_count": 75,
   "id": "d9f21244",
   "metadata": {},
   "outputs": [
    {
     "data": {
      "text/plain": [
       "<AxesSubplot:>"
      ]
     },
     "execution_count": 75,
     "metadata": {},
     "output_type": "execute_result"
    },
    {
     "data": {
      "image/png": "[encoded data removed]",
      "text/plain": [
       "<Figure size 432x288 with 1 Axes>"
      ]
     },
     "metadata": {
      "needs_background": "light"
     },
     "output_type": "display_data"
    }
   ],
   "source": [
    "monkeypox['user created at'].hist()"
   ]
  },
  {
   "cell_type": "code",
   "execution_count": 38,
   "id": "03acf2f7",
   "metadata": {},
   "outputs": [
    {
     "name": "stderr",
     "output_type": "stream",
     "text": [
      "C:\\Python3\\lib\\site-packages\\seaborn\\distributions.py:2619: FutureWarning: `distplot` is a deprecated function and will be removed in a future version. Please adapt your code to use either `displot` (a figure-level function with similar flexibility) or `histplot` (an axes-level function for histograms).\n",
      "  warnings.warn(msg, FutureWarning)\n"
     ]
    },
    {
     "data": {
      "text/plain": [
       "<AxesSubplot:xlabel='followers count', ylabel='Density'>"
      ]
     },
     "execution_count": 38,
     "metadata": {},
     "output_type": "execute_result"
    },
    {
     "data": {
      "image/png": "[encoded data removed]",
      "text/plain": [
       "<Figure size 432x288 with 1 Axes>"
      ]
     },
     "metadata": {
      "needs_background": "light"
     },
     "output_type": "display_data"
    }
   ],
   "source": [
    "sns.distplot(monkeypox['followers count'])"
   ]
  },
  {
   "cell_type": "code",
   "execution_count": 76,
   "id": "6a806ffa",
   "metadata": {},
   "outputs": [
    {
     "name": "stderr",
     "output_type": "stream",
     "text": [
      "C:\\Python3\\lib\\site-packages\\seaborn\\distributions.py:2619: FutureWarning: `distplot` is a deprecated function and will be removed in a future version. Please adapt your code to use either `displot` (a figure-level function with similar flexibility) or `histplot` (an axes-level function for histograms).\n",
      "  warnings.warn(msg, FutureWarning)\n"
     ]
    },
    {
     "data": {
      "text/plain": [
       "<AxesSubplot:xlabel='user created at', ylabel='Density'>"
      ]
     },
     "execution_count": 76,
     "metadata": {},
     "output_type": "execute_result"
    },
    {
     "data": {
      "image/png": "[encoded data removed]",
      "text/plain": [
       "<Figure size 432x288 with 1 Axes>"
      ]
     },
     "metadata": {
      "needs_background": "light"
     },
     "output_type": "display_data"
    }
   ],
   "source": [
    "sns.distplot(monkeypox['user created at'])"
   ]
  },
  {
   "cell_type": "code",
   "execution_count": 79,
   "id": "3c6df5dd",
   "metadata": {},
   "outputs": [
    {
     "name": "stderr",
     "output_type": "stream",
     "text": [
      "C:\\Python3\\lib\\site-packages\\seaborn\\distributions.py:2619: FutureWarning: `distplot` is a deprecated function and will be removed in a future version. Please adapt your code to use either `displot` (a figure-level function with similar flexibility) or `histplot` (an axes-level function for histograms).\n",
      "  warnings.warn(msg, FutureWarning)\n"
     ]
    },
    {
     "data": {
      "text/plain": [
       "<AxesSubplot:xlabel='retweet_count', ylabel='Density'>"
      ]
     },
     "execution_count": 79,
     "metadata": {},
     "output_type": "execute_result"
    },
    {
     "data": {
      "image/png": "[encoded data removed]",
      "text/plain": [
       "<Figure size 432x288 with 1 Axes>"
      ]
     },
     "metadata": {
      "needs_background": "light"
     },
     "output_type": "display_data"
    }
   ],
   "source": [
    "sns.distplot(monkeypox['retweet_count']) # seaborn distribution plot"
   ]
  },
  {
   "cell_type": "code",
   "execution_count": 80,
   "id": "bc062955",
   "metadata": {},
   "outputs": [
    {
     "ename": "TypeError",
     "evalue": "`Series.plot()` should not be called with positional arguments, only keyword arguments. The order of positional arguments will change in the future. Use `Series.plot(kind='bar')` instead of `Series.plot('bar',)`.",
     "output_type": "error",
     "traceback": [
      "\u001b[1;31m---------------------------------------------------------------------------\u001b[0m",
      "\u001b[1;31mTypeError\u001b[0m                                 Traceback (most recent call last)",
      "Input \u001b[1;32mIn [80]\u001b[0m, in \u001b[0;36m<module>\u001b[1;34m\u001b[0m\n\u001b[0;32m      1\u001b[0m \u001b[38;5;66;03m# bar charts ## Barchart not running \u001b[39;00m\n\u001b[1;32m----> 2\u001b[0m BarChart \u001b[38;5;241m=\u001b[39m \u001b[43mmonkeypox\u001b[49m\u001b[43m \u001b[49m\u001b[43m[\u001b[49m\u001b[38;5;124;43m'\u001b[39;49m\u001b[38;5;124;43mfollowers count\u001b[39;49m\u001b[38;5;124;43m'\u001b[39;49m\u001b[43m]\u001b[49m\u001b[38;5;241;43m.\u001b[39;49m\u001b[43mvalue_counts\u001b[49m\u001b[43m(\u001b[49m\u001b[43m)\u001b[49m\u001b[38;5;241;43m.\u001b[39;49m\u001b[43mplot\u001b[49m\u001b[43m(\u001b[49m\u001b[38;5;124;43m'\u001b[39;49m\u001b[38;5;124;43mbar\u001b[39;49m\u001b[38;5;124;43m'\u001b[39;49m\u001b[43m)\u001b[49m\n",
      "File \u001b[1;32mC:\\Python3\\lib\\site-packages\\pandas\\plotting\\_core.py:894\u001b[0m, in \u001b[0;36mPlotAccessor.__call__\u001b[1;34m(self, *args, **kwargs)\u001b[0m\n\u001b[0;32m    891\u001b[0m \u001b[38;5;28;01mdef\u001b[39;00m \u001b[38;5;21m__call__\u001b[39m(\u001b[38;5;28mself\u001b[39m, \u001b[38;5;241m*\u001b[39margs, \u001b[38;5;241m*\u001b[39m\u001b[38;5;241m*\u001b[39mkwargs):\n\u001b[0;32m    892\u001b[0m     plot_backend \u001b[38;5;241m=\u001b[39m _get_plot_backend(kwargs\u001b[38;5;241m.\u001b[39mpop(\u001b[38;5;124m\"\u001b[39m\u001b[38;5;124mbackend\u001b[39m\u001b[38;5;124m\"\u001b[39m, \u001b[38;5;28;01mNone\u001b[39;00m))\n\u001b[1;32m--> 894\u001b[0m     x, y, kind, kwargs \u001b[38;5;241m=\u001b[39m \u001b[38;5;28;43mself\u001b[39;49m\u001b[38;5;241;43m.\u001b[39;49m\u001b[43m_get_call_args\u001b[49m\u001b[43m(\u001b[49m\n\u001b[0;32m    895\u001b[0m \u001b[43m        \u001b[49m\u001b[43mplot_backend\u001b[49m\u001b[38;5;241;43m.\u001b[39;49m\u001b[38;5;18;43m__name__\u001b[39;49m\u001b[43m,\u001b[49m\u001b[43m \u001b[49m\u001b[38;5;28;43mself\u001b[39;49m\u001b[38;5;241;43m.\u001b[39;49m\u001b[43m_parent\u001b[49m\u001b[43m,\u001b[49m\u001b[43m \u001b[49m\u001b[43margs\u001b[49m\u001b[43m,\u001b[49m\u001b[43m \u001b[49m\u001b[43mkwargs\u001b[49m\n\u001b[0;32m    896\u001b[0m \u001b[43m    \u001b[49m\u001b[43m)\u001b[49m\n\u001b[0;32m    898\u001b[0m     kind \u001b[38;5;241m=\u001b[39m \u001b[38;5;28mself\u001b[39m\u001b[38;5;241m.\u001b[39m_kind_aliases\u001b[38;5;241m.\u001b[39mget(kind, kind)\n\u001b[0;32m    900\u001b[0m     \u001b[38;5;66;03m# when using another backend, get out of the way\u001b[39;00m\n",
      "File \u001b[1;32mC:\\Python3\\lib\\site-packages\\pandas\\plotting\\_core.py:878\u001b[0m, in \u001b[0;36mPlotAccessor._get_call_args\u001b[1;34m(backend_name, data, args, kwargs)\u001b[0m\n\u001b[0;32m    868\u001b[0m     keyword_args \u001b[38;5;241m=\u001b[39m \u001b[38;5;124m\"\u001b[39m\u001b[38;5;124m, \u001b[39m\u001b[38;5;124m\"\u001b[39m\u001b[38;5;241m.\u001b[39mjoin(\n\u001b[0;32m    869\u001b[0m         [\u001b[38;5;124mf\u001b[39m\u001b[38;5;124m\"\u001b[39m\u001b[38;5;132;01m{\u001b[39;00mname\u001b[38;5;132;01m}\u001b[39;00m\u001b[38;5;124m=\u001b[39m\u001b[38;5;132;01m{\u001b[39;00m\u001b[38;5;28mrepr\u001b[39m(value)\u001b[38;5;132;01m}\u001b[39;00m\u001b[38;5;124m\"\u001b[39m \u001b[38;5;28;01mfor\u001b[39;00m (name, _), value \u001b[38;5;129;01min\u001b[39;00m \u001b[38;5;28mzip\u001b[39m(arg_def, args)]\n\u001b[0;32m    870\u001b[0m     )\n\u001b[0;32m    871\u001b[0m     msg \u001b[38;5;241m=\u001b[39m (\n\u001b[0;32m    872\u001b[0m         \u001b[38;5;124m\"\u001b[39m\u001b[38;5;124m`Series.plot()` should not be called with positional \u001b[39m\u001b[38;5;124m\"\u001b[39m\n\u001b[0;32m    873\u001b[0m         \u001b[38;5;124m\"\u001b[39m\u001b[38;5;124marguments, only keyword arguments. The order of \u001b[39m\u001b[38;5;124m\"\u001b[39m\n\u001b[1;32m   (...)\u001b[0m\n\u001b[0;32m    876\u001b[0m         \u001b[38;5;124mf\u001b[39m\u001b[38;5;124m\"\u001b[39m\u001b[38;5;124m`Series.plot(\u001b[39m\u001b[38;5;132;01m{\u001b[39;00mpositional_args\u001b[38;5;132;01m}\u001b[39;00m\u001b[38;5;124m)`.\u001b[39m\u001b[38;5;124m\"\u001b[39m\n\u001b[0;32m    877\u001b[0m     )\n\u001b[1;32m--> 878\u001b[0m     \u001b[38;5;28;01mraise\u001b[39;00m \u001b[38;5;167;01mTypeError\u001b[39;00m(msg)\n\u001b[0;32m    880\u001b[0m pos_args \u001b[38;5;241m=\u001b[39m {name: value \u001b[38;5;28;01mfor\u001b[39;00m (name, _), value \u001b[38;5;129;01min\u001b[39;00m \u001b[38;5;28mzip\u001b[39m(arg_def, args)}\n\u001b[0;32m    881\u001b[0m \u001b[38;5;28;01mif\u001b[39;00m backend_name \u001b[38;5;241m==\u001b[39m \u001b[38;5;124m\"\u001b[39m\u001b[38;5;124mpandas.plotting._matplotlib\u001b[39m\u001b[38;5;124m\"\u001b[39m:\n",
      "\u001b[1;31mTypeError\u001b[0m: `Series.plot()` should not be called with positional arguments, only keyword arguments. The order of positional arguments will change in the future. Use `Series.plot(kind='bar')` instead of `Series.plot('bar',)`."
     ]
    }
   ],
   "source": [
    "# bar charts ## Barchart not running \n",
    "BarChart = monkeypox ['followers count'].value_counts().plot('bar')"
   ]
  },
  {
   "cell_type": "code",
   "execution_count": 81,
   "id": "5ce1e06c",
   "metadata": {},
   "outputs": [
    {
     "data": {
      "text/plain": [
       "<seaborn.axisgrid.PairGrid at 0x1e40c0131c0>"
      ]
     },
     "execution_count": 81,
     "metadata": {},
     "output_type": "execute_result"
    },
    {
     "data": {
      "image/png": "[encoded data removed]",
      "text/plain": [
       "<Figure size 360x360 with 6 Axes>"
      ]
     },
     "metadata": {
      "needs_background": "light"
     },
     "output_type": "display_data"
    }
   ],
   "source": [
    "# multiple histograms \n",
    "sns.pairplot(monkeypoxFTcount)"
   ]
  },
  {
   "cell_type": "code",
   "execution_count": 82,
   "id": "2b5942a6",
   "metadata": {},
   "outputs": [
    {
     "data": {
      "image/png": "[encoded data removed]",
      "text/plain": [
       "<Figure size 432x288 with 1 Axes>"
      ]
     },
     "metadata": {
      "needs_background": "light"
     },
     "output_type": "display_data"
    }
   ],
   "source": [
    "# HISTOGRAM PLOT\n",
    "num_bins=2\n",
    "n, bins, patches = plt.hist(monkeypox['followers count'], num_bins, facecolor='blue', alpha=.1) \n",
    "plt.xlabel('Followers Count')\n",
    "plt.ylabel('Frequency')\n",
    "plt.title('HIstogram of Followers Count')\n",
    "plt.show()"
   ]
  },
  {
   "cell_type": "code",
   "execution_count": 1,
   "id": "d76cdee9",
   "metadata": {},
   "outputs": [
    {
     "ename": "NameError",
     "evalue": "name 'monkeypox' is not defined",
     "output_type": "error",
     "traceback": [
      "\u001b[1;31m---------------------------------------------------------------------------\u001b[0m",
      "\u001b[1;31mNameError\u001b[0m                                 Traceback (most recent call last)",
      "Input \u001b[1;32mIn [1]\u001b[0m, in \u001b[0;36m<module>\u001b[1;34m\u001b[0m\n\u001b[1;32m----> 1\u001b[0m Plot \u001b[38;5;241m=\u001b[39m \u001b[43mmonkeypox\u001b[49m\u001b[38;5;241m.\u001b[39mplot\u001b[38;5;241m.\u001b[39mscatter(x\u001b[38;5;241m=\u001b[39m\u001b[38;5;124m'\u001b[39m\u001b[38;5;124mfollowers fount\u001b[39m\u001b[38;5;124m'\u001b[39m, y\u001b[38;5;241m=\u001b[39m \u001b[38;5;124m'\u001b[39m\u001b[38;5;124mretweet_count\u001b[39m\u001b[38;5;124m'\u001b[39m, c\u001b[38;5;241m=\u001b[39m\u001b[38;5;124m'\u001b[39m\u001b[38;5;124mretweet_count\u001b[39m\u001b[38;5;124m'\u001b[39m)\n\u001b[0;32m      2\u001b[0m Plot\u001b[38;5;241m.\u001b[39mset_title(\u001b[38;5;124m\"\u001b[39m\u001b[38;5;124mMonkeypox Misinformation by Followers Count and Retweet Count\u001b[39m\u001b[38;5;124m\"\u001b[39m)\n\u001b[0;32m      3\u001b[0m Plot\u001b[38;5;241m.\u001b[39mset_xlabel(\u001b[38;5;124m\"\u001b[39m\u001b[38;5;124mfollowers count\u001b[39m\u001b[38;5;124m\"\u001b[39m)\n",
      "\u001b[1;31mNameError\u001b[0m: name 'monkeypox' is not defined"
     ]
    }
   ],
   "source": [
    "Plot = monkeypox.plot.scatter(x='followers fount', y= 'retweet_count', c='retweet_count')\n",
    "Plot.set_title(\"Monkeypox Misinformation by Followers Count and Retweet Count\")\n",
    "Plot.set_xlabel(\"followers count\")\n",
    "Plot.set_ylabel(\"retweet count\")"
   ]
  },
  {
   "cell_type": "code",
   "execution_count": null,
   "id": "768e4086",
   "metadata": {},
   "outputs": [],
   "source": []
  }
 ],
 "metadata": {
  "kernelspec": {
   "display_name": "Python 3 (ipykernel)",
   "language": "python",
   "name": "python3"
  },
  "language_info": {
   "codemirror_mode": {
    "name": "ipython",
    "version": 3
   },
   "file_extension": ".py",
   "mimetype": "text/x-python",
   "name": "python",
   "nbconvert_exporter": "python",
   "pygments_lexer": "ipython3",
   "version": "3.10.5"
  }
 },
 "nbformat": 4,
 "nbformat_minor": 5
}
